{
 "cells": [
  {
   "cell_type": "code",
   "execution_count": 13,
   "id": "96fd7e4b-7e5f-48e9-a305-b3caab491916",
   "metadata": {},
   "outputs": [],
   "source": [
    "def selection_sort(arr):\n",
    "    for i in range(len(arr)):\n",
    "        min_idx = i\n",
    "        for j in range(i + 1, len(arr)):\n",
    "            if arr[j] < arr[min_idx]:\n",
    "                min_idx = j\n",
    "        arr[i], arr[min_idx] = arr[min_idx], arr[i]\n",
    "    return arr"
   ]
  },
  {
   "cell_type": "code",
   "execution_count": 15,
   "id": "396a43be-6a4a-468b-bde0-70d92c8eae82",
   "metadata": {},
   "outputs": [
    {
     "name": "stdout",
     "output_type": "stream",
     "text": [
      "Lista original: [29, 10, 14, 37, 13]\n",
      "Lista ordenada: [10, 13, 14, 29, 37]\n"
     ]
    }
   ],
   "source": [
    "lista = [29, 10, 14, 37, 13]\n",
    "print(\"Lista original:\", lista)\n",
    "print(\"Lista ordenada:\", selection_sort(lista))"
   ]
  },
  {
   "cell_type": "code",
   "execution_count": 17,
   "id": "5f88a3ce-d079-4081-9354-f3e3384275a2",
   "metadata": {},
   "outputs": [],
   "source": [
    "def find_max(arr):\n",
    "    if not arr:\n",
    "        return None  \n",
    "    \n",
    "    max_val = arr[0]\n",
    "    for num in arr[1:]:\n",
    "        if num > max_val:\n",
    "            max_val = num\n",
    "    return max_val"
   ]
  },
  {
   "cell_type": "code",
   "execution_count": 19,
   "id": "b6fa8465-2844-4d83-a704-a47488a81e57",
   "metadata": {},
   "outputs": [
    {
     "name": "stdout",
     "output_type": "stream",
     "text": [
      "Maior elemento: 37\n"
     ]
    }
   ],
   "source": [
    "print(\"Maior elemento:\", find_max(lista))"
   ]
  }
 ],
 "metadata": {
  "kernelspec": {
   "display_name": "Python [conda env:base] *",
   "language": "python",
   "name": "conda-base-py"
  },
  "language_info": {
   "codemirror_mode": {
    "name": "ipython",
    "version": 3
   },
   "file_extension": ".py",
   "mimetype": "text/x-python",
   "name": "python",
   "nbconvert_exporter": "python",
   "pygments_lexer": "ipython3",
   "version": "3.12.7"
  }
 },
 "nbformat": 4,
 "nbformat_minor": 5
}
